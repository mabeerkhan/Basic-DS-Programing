{
  "nbformat": 4,
  "nbformat_minor": 0,
  "metadata": {
    "colab": {
      "provenance": []
    },
    "kernelspec": {
      "name": "python3",
      "display_name": "Python 3"
    },
    "language_info": {
      "name": "python"
    }
  },
  "cells": [
    {
      "cell_type": "code",
      "execution_count": null,
      "metadata": {
        "id": "uZztGM4Ven0R"
      },
      "outputs": [],
      "source": [
        "import numpy as np\n",
        "import pandas as pd\n",
        "import matplotlib.pyplot as plt"
      ]
    },
    {
      "cell_type": "code",
      "source": [
        "import numpy as np\n",
        "import pandas as pd\n",
        "import matplotlib.pyplot as plt\n",
        "from google.colab import drive\n",
        "\n",
        "# Mounting Google Drive\n",
        "drive.mount('/content/drive')\n",
        "\n",
        "file_path = '/content/drive/My Drive/Colab Notebooks/gapminder_full.csv'\n",
        "\n",
        "# Loading the dataset\n",
        "data = pd.read_csv(file_path)\n",
        "\n",
        "# Displaying the first few rows of the dataset\n",
        "print(\"Original Data:\")\n",
        "print(data.head())\n",
        "\n",
        "# Drop rows containing NaN values\n",
        "data_cleaned = data.dropna()\n",
        "columns_to_keep = ['country', 'year', 'life_exp', 'gdp_cap']\n",
        "\n",
        "data_final = data_cleaned[columns_to_keep]\n",
        "\n",
        "# Displaying the cleaned dataset\n",
        "print(\"\\nCleaned Data:\")\n",
        "print(data_final.head())\n",
        "\n",
        "#I made a new file that cleaned the data\n",
        "data_final.to_csv('/content/drive/My Drive/Colab Notebooks/gapminder_cleaned.csv', index=False)  # Update path if needed\n",
        "\n"
      ],
      "metadata": {
        "id": "sSBQxLqcl-_o",
        "colab": {
          "base_uri": "https://localhost:8080/"
        },
        "outputId": "efbe5ada-b4ce-4723-d012-f5530830b637"
      },
      "execution_count": null,
      "outputs": [
        {
          "output_type": "stream",
          "name": "stdout",
          "text": [
            "Drive already mounted at /content/drive; to attempt to forcibly remount, call drive.mount(\"/content/drive\", force_remount=True).\n",
            "Original Data:\n",
            "       country  year  population continent  life_exp     gdp_cap\n",
            "0  Afghanistan  1952     8425333      Asia    28.801  779.445314\n",
            "1  Afghanistan  1957     9240934      Asia    30.332  820.853030\n",
            "2  Afghanistan  1962    10267083      Asia    31.997  853.100710\n",
            "3  Afghanistan  1967    11537966      Asia    34.020  836.197138\n",
            "4  Afghanistan  1972    13079460      Asia    36.088  739.981106\n",
            "\n",
            "Cleaned Data:\n",
            "       country  year  life_exp     gdp_cap\n",
            "0  Afghanistan  1952    28.801  779.445314\n",
            "1  Afghanistan  1957    30.332  820.853030\n",
            "2  Afghanistan  1962    31.997  853.100710\n",
            "3  Afghanistan  1967    34.020  836.197138\n",
            "4  Afghanistan  1972    36.088  739.981106\n"
          ]
        }
      ]
    },
    {
      "cell_type": "code",
      "source": [
        "import pandas as pd\n",
        "import matplotlib.pyplot as plt\n",
        "from google.colab import drive\n",
        "\n",
        "import pandas as pd\n",
        "import matplotlib.pyplot as plt\n",
        "\n",
        "# Load the cleaned data\n",
        "file_path = '/content/drive/My Drive/Colab Notebooks/gapminder_cleaned.csv'  # Replace <path_to_file> with the actual path\n",
        "data = pd.read_csv(file_path)\n",
        "\n",
        "# Filter data for Afghanistan\n",
        "afghanistan_data = data[data['country'] == 'Afghanistan']\n",
        "\n",
        "# Plot the bar chart\n",
        "plt.bar(afghanistan_data['year'], afghanistan_data['life_exp'], color='blue')\n",
        "\n",
        "# Add labels and title\n",
        "plt.title('Life Expectancy in Afghanistan Over the Years')\n",
        "plt.xlabel('Year')\n",
        "plt.ylabel('Life Expectancy')\n",
        "\n",
        "# Show the chart\n",
        "plt.show()\n",
        "\n",
        "\n",
        "\n"
      ],
      "metadata": {
        "colab": {
          "base_uri": "https://localhost:8080/",
          "height": 472
        },
        "id": "z31IHEDOcBPy",
        "outputId": "6aa39c2c-eaad-4731-ed53-c3e7e63d3d8c"
      },
      "execution_count": null,
      "outputs": [
        {
          "output_type": "display_data",
          "data": {
            "text/plain": [
              "<Figure size 640x480 with 1 Axes>"
            ],
            "image/png": "[encoded data removed]"
          },
          "metadata": {}
        }
      ]
    },
    {
      "cell_type": "code",
      "source": [],
      "metadata": {
        "id": "uh63qt4scnDJ"
      },
      "execution_count": null,
      "outputs": []
    }
  ]
}